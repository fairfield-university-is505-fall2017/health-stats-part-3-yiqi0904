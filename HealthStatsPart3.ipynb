{
 "cells": [
  {
   "cell_type": "markdown",
   "metadata": {},
   "source": [
    "# Health Stats Part 2: Waist 2 Hip Ratios"
   ]
  },
  {
   "cell_type": "markdown",
   "metadata": {},
   "source": [
    "<!--- Write an explanation of the Waist To Hips Ratio statistic used by health professionals. Please include an explanation of what it is used for, exactly how it is calculated, and how to interpret the results. Note: Formmatting matters. Make this as professional as you can using Markdown.  --->\n",
    "EDIT THIS MARKDOWN CELL"
   ]
  },
  {
   "cell_type": "markdown",
   "metadata": {},
   "source": [
    "## Source Data "
   ]
  },
  {
   "cell_type": "markdown",
   "metadata": {},
   "source": [
    "<!--- Replace the text below with a Markdown bullet list that defines the columns of the CSV file. Be sure to indicate the data type for each column. --->\n",
    "EDIT THIS MARKDOWN CELL"
   ]
  },
  {
   "cell_type": "markdown",
   "metadata": {},
   "source": [
    "## Data Import"
   ]
  },
  {
   "cell_type": "code",
   "execution_count": 9,
   "metadata": {},
   "outputs": [
    {
     "name": "stdout",
     "output_type": "stream",
     "text": [
      "[( 1, 30, 32, b'M') ( 2, 32, 37, b'M') ( 3, 30, 36, b'M')\n",
      " ( 4, 33, 39, b'M') ( 5, 29, 33, b'M') ( 6, 32, 38, b'M')\n",
      " ( 7, 33, 42, b'M') ( 8, 30, 40, b'M') ( 9, 30, 37, b'M')\n",
      " (10, 32, 39, b'M') (11, 24, 35, b'F') (12, 25, 37, b'F')\n",
      " (13, 24, 37, b'F') (14, 22, 34, b'F') (15, 26, 38, b'F')\n",
      " (16, 26, 37, b'F') (17, 25, 38, b'F') (18, 26, 37, b'F')\n",
      " (19, 28, 40, b'F') (20, 23, 35, b'F')]\n"
     ]
    }
   ],
   "source": [
    "# Goal: Extract the data from the file\n",
    "import numpy as np\n",
    "\n",
    "rows = np.genfromtxt('w2h_data.csv',delimiter=',', names=True,dtype=[('ID',int),('Waist',int),('Hip', int),('Gender','S3')])\n",
    "\n",
    "print(rows)"
   ]
  },
  {
   "cell_type": "code",
   "execution_count": 7,
   "metadata": {},
   "outputs": [
    {
     "data": {
      "text/plain": [
       "array([( 1, 30, 32, b'M'), ( 2, 32, 37, b'M'), ( 3, 30, 36, b'M'),\n",
       "       ( 4, 33, 39, b'M'), ( 5, 29, 33, b'M'), ( 6, 32, 38, b'M'),\n",
       "       ( 7, 33, 42, b'M'), ( 8, 30, 40, b'M'), ( 9, 30, 37, b'M'),\n",
       "       (10, 32, 39, b'M'), (11, 24, 35, b'F'), (12, 25, 37, b'F'),\n",
       "       (13, 24, 37, b'F'), (14, 22, 34, b'F'), (15, 26, 38, b'F'),\n",
       "       (16, 26, 37, b'F'), (17, 25, 38, b'F'), (18, 26, 37, b'F'),\n",
       "       (19, 28, 40, b'F'), (20, 23, 35, b'F')], \n",
       "      dtype=[('ID', '<i4'), ('Waist', '<i4'), ('Hip', '<i4'), ('Gender', 'S3')])"
      ]
     },
     "execution_count": 7,
     "metadata": {},
     "output_type": "execute_result"
    }
   ],
   "source": [
    "rows\n"
   ]
  },
  {
   "cell_type": "markdown",
   "metadata": {},
   "source": [
    "## Calculations"
   ]
  },
  {
   "cell_type": "code",
   "execution_count": 19,
   "metadata": {},
   "outputs": [
    {
     "name": "stdout",
     "output_type": "stream",
     "text": [
      "[( 1, 30, 32, b'M') ( 2, 32, 37, b'M') ( 3, 30, 36, b'M')\n",
      " ( 4, 33, 39, b'M') ( 5, 29, 33, b'M') ( 6, 32, 38, b'M')\n",
      " ( 7, 33, 42, b'M') ( 8, 30, 40, b'M') ( 9, 30, 37, b'M')\n",
      " (10, 32, 39, b'M') (11, 24, 35, b'F') (12, 25, 37, b'F')\n",
      " (13, 24, 37, b'F') (14, 22, 34, b'F') (15, 26, 38, b'F')\n",
      " (16, 26, 37, b'F') (17, 25, 38, b'F') (18, 26, 37, b'F')\n",
      " (19, 28, 40, b'F') (20, 23, 35, b'F')]\n",
      "[( 0.9375    ,) ( 0.86486486,) ( 0.83333333,) ( 0.84615385,) ( 0.87878788,)\n",
      " ( 0.84210526,) ( 0.78571429,) ( 0.75      ,) ( 0.81081081,) ( 0.82051282,)\n",
      " ( 0.68571429,) ( 0.67567568,) ( 0.64864865,) ( 0.64705882,) ( 0.68421053,)\n",
      " ( 0.7027027 ,) ( 0.65789474,) ( 0.7027027 ,) ( 0.7       ,) ( 0.65714286,)]\n"
     ]
    }
   ],
   "source": [
    "# Goal: For each row of data calculate and store the w2h_ratio and shape.\n",
    "\n",
    "\n",
    "# For each row in the rows list, calculate the waist to hips ratio and shape\n",
    "for row in rows:\n",
    "    # Calculate the w2h_ratio \n",
    "    w2h_ratio = np.array((rows['Waist']/rows['Hip']), dtype=[('W2H_Ratio',float)]) \n",
    " # FIX THIS; you will need to take care about data types\n",
    "    \n",
    "    # Based on the ratio and the gender, set the variable shape to either 'apple' or 'pear'\n",
    "    #shape = 'Pear' # FIX THIS; you will need to use a conditional\n",
    "   # if ((row['Gender']=='M' and w2h_ratio > 0.9) or (row['Gender'] == 'F' and w2h_ratio > 0.8)) :\n",
    "        #shape = \"Apple\"\n",
    "     #else: \n",
    "      #  shape = \"Pear\"\n",
    "\n",
    "    \n",
    "    # Add the new data to the end of the row\n",
    "    \n",
    "   #row[\"w2H_Ratio\"]=w2h_ratio\n",
    "   #row[\"Shape\"] = shape\n",
    " \n",
    "\n",
    "    \n",
    "print(rows)\n",
    "print (w2h_ratio)\n",
    "    \n",
    "  \n",
    "\n",
    "    \n",
    "     "
   ]
  },
  {
   "cell_type": "markdown",
   "metadata": {},
   "source": [
    "## Output"
   ]
  },
  {
   "cell_type": "code",
   "execution_count": 20,
   "metadata": {},
   "outputs": [
    {
     "ename": "AttributeError",
     "evalue": "'numpy.void' object has no attribute 'keys'",
     "output_type": "error",
     "traceback": [
      "\u001b[1;31m---------------------------------------------------------------------------\u001b[0m",
      "\u001b[1;31mAttributeError\u001b[0m                            Traceback (most recent call last)",
      "\u001b[1;32m<ipython-input-20-7ec1145d6e43>\u001b[0m in \u001b[0;36m<module>\u001b[1;34m()\u001b[0m\n\u001b[0;32m      3\u001b[0m \u001b[1;31m# Note: this works, but we can do this much better with pandas\u001b[0m\u001b[1;33m\u001b[0m\u001b[1;33m\u001b[0m\u001b[0m\n\u001b[0;32m      4\u001b[0m \u001b[0mhtml_table\u001b[0m \u001b[1;33m=\u001b[0m \u001b[1;34m'<table><tr><th>'\u001b[0m\u001b[1;33m\u001b[0m\u001b[0m\n\u001b[1;32m----> 5\u001b[1;33m \u001b[0mhtml_table\u001b[0m \u001b[1;33m+=\u001b[0m \u001b[1;34m\"</th><th>\"\u001b[0m\u001b[1;33m.\u001b[0m\u001b[0mjoin\u001b[0m\u001b[1;33m(\u001b[0m\u001b[0mrows\u001b[0m\u001b[1;33m[\u001b[0m\u001b[1;36m0\u001b[0m\u001b[1;33m]\u001b[0m\u001b[1;33m.\u001b[0m\u001b[0mkeys\u001b[0m\u001b[1;33m(\u001b[0m\u001b[1;33m)\u001b[0m\u001b[1;33m)\u001b[0m\u001b[1;33m\u001b[0m\u001b[0m\n\u001b[0m\u001b[0;32m      6\u001b[0m \u001b[0mhtml_table\u001b[0m \u001b[1;33m+=\u001b[0m \u001b[1;34m'</th></tr>'\u001b[0m\u001b[1;33m\u001b[0m\u001b[0m\n\u001b[0;32m      7\u001b[0m \u001b[1;32mfor\u001b[0m \u001b[0mrow\u001b[0m \u001b[1;32min\u001b[0m \u001b[0mrows\u001b[0m\u001b[1;33m:\u001b[0m\u001b[1;33m\u001b[0m\u001b[0m\n",
      "\u001b[1;31mAttributeError\u001b[0m: 'numpy.void' object has no attribute 'keys'"
     ]
    }
   ],
   "source": [
    "# Goal: pretty print the rows as an HTML table\n",
    "\n",
    "# Note: this works, but we can do this much better with pandas\n",
    "html_table = '<table><tr><th>'\n",
    "html_table += \"</th><th>\".join(rows[0].keys())\n",
    "html_table += '</th></tr>'\n",
    "for row in rows:\n",
    "    html_table += \"<tr><td>\"\n",
    "    html_table += \"</td><td>\".join(str(v) for v in row.values())\n",
    "    html_table += \"</td></tr>\"\n",
    "html_table += \"</table>\"\n",
    "\n",
    "from IPython.display import HTML, display\n",
    "display(HTML(html_table))"
   ]
  },
  {
   "cell_type": "code",
   "execution_count": null,
   "metadata": {
    "collapsed": true
   },
   "outputs": [],
   "source": []
  }
 ],
 "metadata": {
  "kernelspec": {
   "display_name": "Python 3",
   "language": "python",
   "name": "python3"
  },
  "language_info": {
   "codemirror_mode": {
    "name": "ipython",
    "version": 3
   },
   "file_extension": ".py",
   "mimetype": "text/x-python",
   "name": "python",
   "nbconvert_exporter": "python",
   "pygments_lexer": "ipython3",
   "version": "3.6.1"
  }
 },
 "nbformat": 4,
 "nbformat_minor": 2
}
